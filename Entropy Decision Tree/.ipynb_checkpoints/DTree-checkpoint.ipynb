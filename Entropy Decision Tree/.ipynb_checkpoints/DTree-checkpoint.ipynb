{
 "cells": [
  {
   "cell_type": "code",
   "execution_count": null,
   "id": "90e7380f-7cac-4a8f-9b5e-0f0ecb41265e",
   "metadata": {},
   "outputs": [],
   "source": [
    "# pip install sklearn\n",
    "# pip install pandas\n",
    "# pip install six\n",
    "# pip install pydotplus\n",
    "import warnings\n",
    "warnings.filterwarnings(\"ignore\")\n",
    "import pandas as pd\n",
    "from sklearn.tree import DecisionTreeClassifier\n",
    "from sklearn.model_selection import train_test_split\n",
    "\n",
    "from sklearn import metrics # is used to create classification results\n",
    "from sklearn.tree import export_graphviz # is used for plotting the decision tree\n",
    "from six import StringIO # is used for plotting the decision tree\n",
    "from IPython.display import Image # is used for plotting the decision tree\n",
    "from IPython.core.display import HTML # is used for showing the confusion matrix\n",
    "import pydotplus # is used for plotting the decision tree\n",
    "\n",
    "# Data set already comes with column names!\n",
    "# col_names = ['srcip','sport','dstip','dsport','proto','state','dur','sbytes','dbytes','sttl','dttl','sloss','dloss','service','Sload','Dload','Spkts','Dpkts','swin','dwin','stcpb','dtcpb','smeansz','dmeansz','trans_depth','res_bdy_len','Sjit','Djit','Stime','Ltime','Sintpkt','Dintpkt','tcprtt','synack','ackdat','is_sm_ips_ports','ct_state_ttl','ct_flw_http_mthd','is_ftp_login','ct_ftp_cmd','ct_srv_src','ct_srv_dst','ct_dst_ltm','ct_src_ltm','ct_src_dport_ltm','ct_dst_sport_ltm','ct_dst_src_ltm','attack_cat','Label']\n",
    "# Because we are taking the column names from the data set, we can take advantage of pandas' default behaviors!\n",
    "# col_names isn't necessary\n",
    "# header set to infer, which without column names means 0, aka the first line of the data set\n",
    "# skiprows is none by default\n",
    "pima = pd.read_csv(\"UNSW-NB15-BALANCED-TRAIN.csv\")\n",
    "pima.head()"
   ]
  }
 ],
 "metadata": {
  "kernelspec": {
   "display_name": "Python 3 (ipykernel)",
   "language": "python",
   "name": "python3"
  },
  "language_info": {
   "codemirror_mode": {
    "name": "ipython",
    "version": 3
   },
   "file_extension": ".py",
   "mimetype": "text/x-python",
   "name": "python",
   "nbconvert_exporter": "python",
   "pygments_lexer": "ipython3",
   "version": "3.12.6"
  }
 },
 "nbformat": 4,
 "nbformat_minor": 5
}
